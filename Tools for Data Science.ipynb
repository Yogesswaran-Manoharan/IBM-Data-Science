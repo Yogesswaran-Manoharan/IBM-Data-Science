{
 "cells": [
  {
   "cell_type": "markdown",
   "metadata": {
    "collapsed": true
   },
   "source": [
    "# My Jupyter Notebook on IBM Watson Studio"
   ]
  },
  {
   "cell_type": "markdown",
   "metadata": {},
   "source": [
    "**Yogesswaran Manoharan**"
   ]
  },
  {
   "cell_type": "markdown",
   "metadata": {},
   "source": [
    "*I am interested in Data Science because of its cores principal to identify detailed information from the data to answer questions*"
   ]
  },
  {
   "cell_type": "markdown",
   "metadata": {},
   "source": [
    "### Rock, Paper & Scissors"
   ]
  },
  {
   "cell_type": "code",
   "execution_count": 7,
   "metadata": {},
   "outputs": [
    {
     "name": "stdout",
     "output_type": "stream",
     "text": [
      "What's your choice ?\n",
      "\n",
      "r' for rock,'p' for papers,'s' for scissors\n",
      "\n",
      "r\n",
      "You won !\n"
     ]
    }
   ],
   "source": [
    "import random\n",
    "\n",
    "def play():\n",
    "    user = input(\"What's your choice ?\\n\\nr' for rock,'p' for papers,'s' for scissors\\n\\n\")\n",
    "    computer = random.choice(['r','p','s'])\n",
    "    \n",
    "    if user == computer:\n",
    "        return 'Its a Ties'\n",
    "    \n",
    "    if is_win(user,computer):\n",
    "        return 'You won !'\n",
    "    \n",
    "    return 'You lost !'\n",
    "    \n",
    "    # r>s, s>p, p>r\n",
    "    \n",
    "def is_win(player,component):\n",
    "    if (player == 'r' and component == 's') or (player == 's' and component == 'p') or (player == 'p' and component == 'r'):\n",
    "        return True\n",
    "\n",
    "print(play())"
   ]
  },
  {
   "cell_type": "markdown",
   "metadata": {},
   "source": [
    "**Markdown experiment**\n",
    "\n",
    "Blocked quote\n",
    "\n",
    ">Hi everyone how you doing !\n",
    "\n",
    "Numbered list\n",
    "\n",
    "1. Rock\n",
    "2. Paper\n",
    "3. Scissors\n",
    "\n",
    "Bulleted list\n",
    "\n",
    "* google\n",
    "* netflix\n",
    "\n",
    "Table\n",
    "\n",
    "| S.No | Name | Age |\n",
    "| --- | --- | --- |\n",
    "| 1 | Yogi | ** |"
   ]
  }
 ],
 "metadata": {
  "kernelspec": {
   "display_name": "Python 3.9",
   "language": "python",
   "name": "python3"
  },
  "language_info": {
   "codemirror_mode": {
    "name": "ipython",
    "version": 3
   },
   "file_extension": ".py",
   "mimetype": "text/x-python",
   "name": "python",
   "nbconvert_exporter": "python",
   "pygments_lexer": "ipython3",
   "version": "3.9.13"
  }
 },
 "nbformat": 4,
 "nbformat_minor": 1
}
